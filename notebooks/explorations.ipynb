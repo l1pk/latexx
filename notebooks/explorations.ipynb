{
 "cells": [
  {
   "cell_type": "markdown",
   "id": "e6a52e88",
   "metadata": {},
   "source": [
    "### Импорт Библиотек"
   ]
  },
  {
   "cell_type": "code",
   "execution_count": 1,
   "id": "1035ea52",
   "metadata": {},
   "outputs": [
    {
     "ename": "ModuleNotFoundError",
     "evalue": "No module named 'src'",
     "output_type": "error",
     "traceback": [
      "\u001b[1;31m---------------------------------------------------------------------------\u001b[0m",
      "\u001b[1;31mModuleNotFoundError\u001b[0m                       Traceback (most recent call last)",
      "Cell \u001b[1;32mIn[1], line 2\u001b[0m\n\u001b[0;32m      1\u001b[0m \u001b[38;5;28;01mimport\u001b[39;00m \u001b[38;5;21;01mtorch\u001b[39;00m\n\u001b[1;32m----> 2\u001b[0m \u001b[38;5;28;01mfrom\u001b[39;00m \u001b[38;5;21;01msrc\u001b[39;00m\u001b[38;5;21;01m.\u001b[39;00m\u001b[38;5;21;01minference\u001b[39;00m \u001b[38;5;28;01mimport\u001b[39;00m load_model, predict\n\u001b[0;32m      3\u001b[0m \u001b[38;5;28;01mfrom\u001b[39;00m \u001b[38;5;21;01msrc\u001b[39;00m\u001b[38;5;21;01m.\u001b[39;00m\u001b[38;5;21;01mutils\u001b[39;00m \u001b[38;5;28;01mimport\u001b[39;00m calculate_bleu, calculate_wer\n\u001b[0;32m      4\u001b[0m \u001b[38;5;28;01mfrom\u001b[39;00m \u001b[38;5;21;01mPIL\u001b[39;00m \u001b[38;5;28;01mimport\u001b[39;00m Image\n",
      "\u001b[1;31mModuleNotFoundError\u001b[0m: No module named 'src'"
     ]
    }
   ],
   "source": [
    "import torch\n",
    "from src.inference import load_model, predict\n",
    "from src.utils import calculate_bleu, calculate_wer\n",
    "from PIL import Image\n",
    "import os"
   ]
  },
  {
   "cell_type": "markdown",
   "id": "d221399f",
   "metadata": {},
   "source": [
    "### Загрузка обученной модели"
   ]
  },
  {
   "cell_type": "code",
   "execution_count": null,
   "id": "fb2c75d9",
   "metadata": {},
   "outputs": [],
   "source": [
    "# Задайте путь к сохраняемой модели\n",
    "model_path = 'models/model_checkpoint.ckpt'\n",
    "model = load_model(model_path)\n",
    "\n",
    "# Убедитесь, что модель в режиме оценки\n",
    "model.eval()\n"
   ]
  },
  {
   "cell_type": "markdown",
   "id": "56d7c5db",
   "metadata": {},
   "source": [
    "### Проведение инференса на новых изображениях"
   ]
  },
  {
   "cell_type": "code",
   "execution_count": null,
   "id": "9139db61",
   "metadata": {},
   "outputs": [],
   "source": [
    "# Задайте путь к изображениям\n",
    "image_folder = 'data/images'\n",
    "results = []\n",
    "\n",
    "# Пройтись по всем изображениям в папке\n",
    "for image_name in os.listdir(image_folder):\n",
    "    if image_name.endswith('.png') or image_name.endswith('.jpg'):  # Фильтрация форматов изображений\n",
    "        image_path = os.path.join(image_folder, image_name)\n",
    "        image = Image.open(image_path).convert('RGB')  # Открытие изображения\n",
    "        \n",
    "        # Выполнение предсказания\n",
    "        prediction = predict(model, image)\n",
    "        results.append((image_name, prediction))\n"
   ]
  },
  {
   "cell_type": "markdown",
   "id": "c42af9f5",
   "metadata": {},
   "source": [
    "### Оценка результатов с помощью BLEU и WER"
   ]
  },
  {
   "cell_type": "code",
   "execution_count": null,
   "id": "99b8c0a5",
   "metadata": {},
   "outputs": [],
   "source": [
    "# Истинные надписи для оценки\n",
    "true_labels = [\"истинный текст 1\", \"истинный текст 2\"]  # Замените на реальные метки\n",
    "predicted_labels = [pred[1] for pred in results]\n",
    "\n",
    "# Рассчет BLEU\n",
    "bleu_score = calculate_bleu(true_labels, predicted_labels)\n",
    "print(f\"BLEU Score: {bleu_score}\")\n",
    "\n",
    "# Рассчет WER\n",
    "wer_score = calculate_wer(true_labels, predicted_labels)\n",
    "print(f\"WER Score: {wer_score}\")\n"
   ]
  }
 ],
 "metadata": {
  "kernelspec": {
   "display_name": "base",
   "language": "python",
   "name": "python3"
  },
  "language_info": {
   "codemirror_mode": {
    "name": "ipython",
    "version": 3
   },
   "file_extension": ".py",
   "mimetype": "text/x-python",
   "name": "python",
   "nbconvert_exporter": "python",
   "pygments_lexer": "ipython3",
   "version": "3.12.7"
  }
 },
 "nbformat": 4,
 "nbformat_minor": 5
}
