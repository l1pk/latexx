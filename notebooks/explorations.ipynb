{
 "cells": [
  {
   "cell_type": "markdown",
   "id": "d221399f",
   "metadata": {},
   "source": [
    "### Загрузка обученной модели"
   ]
  },
  {
   "cell_type": "code",
   "execution_count": 2,
   "id": "dcb065c2",
   "metadata": {},
   "outputs": [],
   "source": [
    "import os\n",
    "os.chdir('..')"
   ]
  },
  {
   "cell_type": "code",
   "execution_count": 3,
   "id": "10d46797",
   "metadata": {},
   "outputs": [
    {
     "name": "stderr",
     "output_type": "stream",
     "text": [
      "\"pwd\" �� ���� ����७��� ��� ���譥�\n",
      "��������, �ᯮ��塞�� �ணࠬ��� ��� ������ 䠩���.\n"
     ]
    }
   ],
   "source": [
    "!pwd"
   ]
  },
  {
   "cell_type": "code",
   "execution_count": 4,
   "id": "f28113bb",
   "metadata": {},
   "outputs": [],
   "source": [
    "import sys\n",
    "import os\n",
    "sys.path.append(os.path.abspath('src'))"
   ]
  },
  {
   "cell_type": "code",
   "execution_count": 5,
   "id": "1aca07e5",
   "metadata": {},
   "outputs": [],
   "source": [
    "from data_module import build_vocab"
   ]
  },
  {
   "cell_type": "code",
   "execution_count": 6,
   "id": "024423ee",
   "metadata": {},
   "outputs": [
    {
     "name": "stdout",
     "output_type": "stream",
     "text": [
      "[1, 77, 3, 23, 3, 49, 72, 57, 76, 72, 79, 36, 67, 56, 30, 27, 81, 6, 76, 21, 3, 55, 7, 3, 23, 3, 44, 6, 76, 3, 49, 67, 56, 67, 72, 3, 6, 15, 3, 9, 3, 49, 53, 64, 68, 60, 53, 3, 49, 72, 57, 76, 72, 79, 35, 53, 77, 57, 70, 37, 67, 70, 65, 81, 6, 44, 52, 55, 3, 55, 7, 7, 7, 3, 9, 3, 54, 2]\n",
      "y = \\text{ModFC}(x; c) = W(x \\odot (1 + \\alpha \\text{LayerNorm}(W_c c))) + b\n"
     ]
    }
   ],
   "source": [
    "char2idx, idx2char = build_vocab('data/annotations.txt')\n",
    "s = \"y = \\\\text{ModFC}(x; c) = W(x \\\\odot (1 + \\\\alpha \\\\text{LayerNorm}(W_c c))) + b\"\n",
    "tokens = [1] + [char2idx[c] for c in s] + [2]\n",
    "print(tokens)\n",
    "print(''.join([idx2char[idx] for idx in tokens if idx > 2]))"
   ]
  }
 ],
 "metadata": {
  "kernelspec": {
   "display_name": "base",
   "language": "python",
   "name": "python3"
  },
  "language_info": {
   "codemirror_mode": {
    "name": "ipython",
    "version": 3
   },
   "file_extension": ".py",
   "mimetype": "text/x-python",
   "name": "python",
   "nbconvert_exporter": "python",
   "pygments_lexer": "ipython3",
   "version": "3.12.7"
  }
 },
 "nbformat": 4,
 "nbformat_minor": 5
}
