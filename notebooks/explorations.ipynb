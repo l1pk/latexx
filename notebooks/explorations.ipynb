{
 "cells": [
  {
   "cell_type": "markdown",
   "id": "d221399f",
   "metadata": {},
   "source": [
    "### Загрузка обученной модели"
   ]
  },
  {
   "cell_type": "code",
   "execution_count": 2,
   "id": "dcb065c2",
   "metadata": {},
   "outputs": [],
   "source": [
    "import os\n",
    "os.chdir('..')"
   ]
  },
  {
   "cell_type": "code",
   "execution_count": 3,
   "id": "10d46797",
   "metadata": {},
   "outputs": [
    {
     "name": "stderr",
     "output_type": "stream",
     "text": [
      "\"pwd\" �� ���� ����७��� ��� ���譥�\n",
      "��������, �ᯮ��塞�� �ணࠬ��� ��� ������ 䠩���.\n"
     ]
    }
   ],
   "source": [
    "!pwd"
   ]
  },
  {
   "cell_type": "code",
   "execution_count": 4,
   "id": "f28113bb",
   "metadata": {},
   "outputs": [],
   "source": [
    "import sys\n",
    "import os\n",
    "sys.path.append(os.path.abspath('src'))"
   ]
  },
  {
   "cell_type": "code",
   "execution_count": 5,
   "id": "1aca07e5",
   "metadata": {},
   "outputs": [],
   "source": [
    "from data_module import build_vocab"
   ]
  },
  {
   "cell_type": "code",
   "execution_count": 7,
   "id": "024423ee",
   "metadata": {},
   "outputs": [
    {
     "name": "stdout",
     "output_type": "stream",
     "text": [
      "Tokens: [1, 8, 3, 6, 3, 7, 3, 4, 3, 5, 2]\n",
      "Decoded: y = x + 1\n"
     ]
    }
   ],
   "source": [
    "char2idx, idx2char = build_vocab(\"data/annotations.txt\")\n",
    "tokens = [1] + [char2idx[c] for c in \"y = x + 1\"] + [2]\n",
    "decoded = ''.join([idx2char[idx] for idx in tokens if idx > 2])\n",
    "print(\"Tokens:\", tokens)\n",
    "print(\"Decoded:\", decoded)"
   ]
  },
  {
   "cell_type": "code",
   "execution_count": null,
   "id": "5ea385c8",
   "metadata": {},
   "outputs": [],
   "source": []
  }
 ],
 "metadata": {
  "kernelspec": {
   "display_name": "base",
   "language": "python",
   "name": "python3"
  },
  "language_info": {
   "codemirror_mode": {
    "name": "ipython",
    "version": 3
   },
   "file_extension": ".py",
   "mimetype": "text/x-python",
   "name": "python",
   "nbconvert_exporter": "python",
   "pygments_lexer": "ipython3",
   "version": "3.12.7"
  }
 },
 "nbformat": 4,
 "nbformat_minor": 5
}
