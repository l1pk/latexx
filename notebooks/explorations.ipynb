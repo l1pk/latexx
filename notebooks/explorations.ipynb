{
 "cells": [
  {
   "cell_type": "markdown",
   "id": "d221399f",
   "metadata": {},
   "source": [
    "### Загрузка обученной модели"
   ]
  },
  {
   "cell_type": "code",
   "execution_count": null,
   "id": "fb2c75d9",
   "metadata": {},
   "outputs": [],
   "source": [
    "from src.data_module import build_vocab\n",
    "char2idx, idx2char = build_vocab('data/annotations.txt')\n",
    "s = \"y = \\\\text{ModFC}(x; c) = W(x \\\\odot (1 + \\\\alpha \\\\text{LayerNorm}(W_c c))) + b\"\n",
    "tokens = [1] + [char2idx[c] for c in s] + [2]\n",
    "print(tokens)\n",
    "print(''.join([idx2char[idx] for idx in tokens if idx > 2]))"
   ]
  }
 ],
 "metadata": {
  "kernelspec": {
   "display_name": "base",
   "language": "python",
   "name": "python3"
  },
  "language_info": {
   "codemirror_mode": {
    "name": "ipython",
    "version": 3
   },
   "file_extension": ".py",
   "mimetype": "text/x-python",
   "name": "python",
   "nbconvert_exporter": "python",
   "pygments_lexer": "ipython3",
   "version": "3.12.7"
  }
 },
 "nbformat": 4,
 "nbformat_minor": 5
}
